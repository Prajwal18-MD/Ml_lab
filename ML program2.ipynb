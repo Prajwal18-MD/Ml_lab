{
 "cells": [
  {
   "cell_type": "code",
   "execution_count": 1,
   "metadata": {},
   "outputs": [],
   "source": [
    "import csv"
   ]
  },
  {
   "cell_type": "code",
   "execution_count": 2,
   "metadata": {},
   "outputs": [
    {
     "name": "stdout",
     "output_type": "stream",
     "text": [
      "[['Sunny', 'Warm', 'Normal', 'Strong', 'Warm', 'Same', 'Yes'], ['Sunny', 'Warm', 'High', 'Strong', 'Warm', 'Same', 'Yes'], ['Rainy', 'Cold', 'High', 'Strong', 'Warm', 'Change', 'No'], ['Sunny', 'Warm', 'High', 'Strong', 'Cool', 'Change', 'Yes']]\n"
     ]
    }
   ],
   "source": [
    "with open(\"D:/ML Lab/trainingData.csv\") as f:\n",
    "    csv_file = csv.reader(f)\n",
    "    data = list(csv_file)\n",
    "    print(data)"
   ]
  },
  {
   "cell_type": "code",
   "execution_count": 3,
   "metadata": {},
   "outputs": [
    {
     "name": "stdout",
     "output_type": "stream",
     "text": [
      "['Sunny', 'Warm', 'Normal', 'Strong', 'Warm', 'Same']\n"
     ]
    }
   ],
   "source": [
    "s = data[0][:-1]\n",
    "print(s)"
   ]
  },
  {
   "cell_type": "code",
   "execution_count": 4,
   "metadata": {},
   "outputs": [
    {
     "name": "stdout",
     "output_type": "stream",
     "text": [
      "[['?', '?', '?', '?', '?', '?'], ['?', '?', '?', '?', '?', '?'], ['?', '?', '?', '?', '?', '?'], ['?', '?', '?', '?', '?', '?'], ['?', '?', '?', '?', '?', '?'], ['?', '?', '?', '?', '?', '?']]\n"
     ]
    }
   ],
   "source": [
    "g = [['?' for i in range(len(s))] for j in range(len(s))]\n",
    "print(g)"
   ]
  },
  {
   "cell_type": "code",
   "execution_count": 5,
   "metadata": {},
   "outputs": [
    {
     "name": "stdout",
     "output_type": "stream",
     "text": [
      "\n",
      " Step of Candidate Elimination Algorithm 1\n",
      "['Sunny', 'Warm', 'Normal', 'Strong', 'Warm', 'Same']\n",
      "[['?', '?', '?', '?', '?', '?'], ['?', '?', '?', '?', '?', '?'], ['?', '?', '?', '?', '?', '?'], ['?', '?', '?', '?', '?', '?'], ['?', '?', '?', '?', '?', '?'], ['?', '?', '?', '?', '?', '?']]\n",
      "\n",
      " Step of Candidate Elimination Algorithm 2\n",
      "['Sunny', 'Warm', '?', 'Strong', 'Warm', 'Same']\n",
      "[['?', '?', '?', '?', '?', '?'], ['?', '?', '?', '?', '?', '?'], ['?', '?', '?', '?', '?', '?'], ['?', '?', '?', '?', '?', '?'], ['?', '?', '?', '?', '?', '?'], ['?', '?', '?', '?', '?', '?']]\n",
      "\n",
      " Step of Candidate Elimination Algorithm 3\n",
      "['Sunny', 'Warm', '?', 'Strong', 'Warm', 'Same']\n",
      "[['Sunny', '?', '?', '?', '?', '?'], ['?', 'Warm', '?', '?', '?', '?'], ['?', '?', '?', '?', '?', '?'], ['?', '?', '?', '?', '?', '?'], ['?', '?', '?', '?', '?', '?'], ['?', '?', '?', '?', '?', 'Same']]\n",
      "\n",
      " Step of Candidate Elimination Algorithm 4\n",
      "['Sunny', 'Warm', '?', 'Strong', '?', '?']\n",
      "[['Sunny', '?', '?', '?', '?', '?'], ['?', 'Warm', '?', '?', '?', '?'], ['?', '?', '?', '?', '?', '?'], ['?', '?', '?', '?', '?', '?'], ['?', '?', '?', '?', '?', '?'], ['?', '?', '?', '?', '?', '?']]\n"
     ]
    }
   ],
   "source": [
    "for i in data:\n",
    "    if i[-1]=='Yes':\n",
    "        for j in range (len(s)):\n",
    "            if i[j] != s[j]:\n",
    "                s[j]='?'\n",
    "                g[j][j]='?'\n",
    "    elif i[-1]=='No':\n",
    "        for j in range (len(s)):\n",
    "            if i[j]!= s[j]:\n",
    "                g[j][j] = s[j]\n",
    "            else:\n",
    "                g[j][j]='?'\n",
    "    print(\"\\n Step of Candidate Elimination Algorithm\",data.index(i)+1)\n",
    "    print(s)\n",
    "    print(g)"
   ]
  },
  {
   "cell_type": "code",
   "execution_count": 6,
   "metadata": {},
   "outputs": [
    {
     "name": "stdout",
     "output_type": "stream",
     "text": [
      "\n",
      " Final Specific Hypothesis:\n",
      " ['Sunny', 'Warm', '?', 'Strong', '?', '?']\n",
      "\n",
      " Final General Hypothesis:\n",
      " [['Sunny', '?', '?', '?', '?', '?'], ['?', 'Warm', '?', '?', '?', '?']]\n"
     ]
    }
   ],
   "source": [
    "gh = []\n",
    "for i in g:\n",
    "    for j in i:\n",
    "        if j != '?':\n",
    "            gh.append(i)\n",
    "            break\n",
    "print(\"\\n Final Specific Hypothesis:\\n\",s)\n",
    "print(\"\\n Final General Hypothesis:\\n\",gh)\n",
    "    "
   ]
  }
 ],
 "metadata": {
  "kernelspec": {
   "display_name": "Python 3",
   "language": "python",
   "name": "python3"
  },
  "language_info": {
   "codemirror_mode": {
    "name": "ipython",
    "version": 3
   },
   "file_extension": ".py",
   "mimetype": "text/x-python",
   "name": "python",
   "nbconvert_exporter": "python",
   "pygments_lexer": "ipython3",
   "version": "3.12.5"
  }
 },
 "nbformat": 4,
 "nbformat_minor": 2
}
